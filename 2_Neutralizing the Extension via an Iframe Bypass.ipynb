{
 "cells": [
  {
   "cell_type": "markdown",
   "id": "6eaed74e-bdb1-490f-b883-1a05760687a9",
   "metadata": {},
   "source": [
    "# Browser Fingerprinting and Attack on Canvas Fingerprint Defender\n"
   ]
  },
  {
   "cell_type": "code",
   "execution_count": 1,
   "id": "ec008679-492a-4e61-b19a-6bb80e599641",
   "metadata": {},
   "outputs": [
    {
     "name": "stdout",
     "output_type": "stream",
     "text": [
      "Overwriting index.html\n"
     ]
    }
   ],
   "source": [
    "%%writefile index.html\n",
    "<!DOCTYPE html>\n",
    "<html>\n",
    "<head>\n",
    "  <title>Canvas Fingerprint Test</title>\n",
    "</head>\n",
    "<body>\n",
    "  <canvas id=\"testCanvas\" width=\"300\" height=\"100\"></canvas>\n",
    "  <script>\n",
    "    const canvas = document.getElementById('testCanvas');\n",
    "    const ctx = canvas.getContext('2d');\n",
    "    let spoofingDetected = false;\n",
    "\n",
    "    // Draw a blue rectangle (should be pure blue if not modified)\n",
    "    ctx.fillStyle = \"#007FFF\";  // Pure blue (0,127,255)\n",
    "    ctx.fillRect(0, 0, canvas.width, canvas.height);\n",
    "\n",
    "    // Draw fingerprinting text on top\n",
    "    ctx.font = \"16px Arial\";\n",
    "    ctx.fillStyle = \"#000\";\n",
    "    ctx.fillText(\"Fingerprint Test\", 10, 50);\n",
    "\n",
    "    // Capture the canvas output twice (to test for inconsistency)\n",
    "    const snapshot1 = canvas.toDataURL();\n",
    "\n",
    "    // Force re-read by clearing and redrawing the canvas\n",
    "    ctx.clearRect(0, 0, canvas.width, canvas.height);\n",
    "    ctx.fillStyle = \"#007FFF\";\n",
    "    ctx.fillRect(0, 0, canvas.width, canvas.height);\n",
    "    ctx.font = \"16px Arial\";\n",
    "    ctx.fillStyle = \"#000\";\n",
    "    ctx.fillText(\"Fingerprint Test\", 10, 50);\n",
    "    const snapshot2 = canvas.toDataURL();\n",
    "\n",
    "    // If the snapshots differ, noise is present\n",
    "    if (snapshot1 !== snapshot2) {\n",
    "      spoofingDetected = true;\n",
    "    }\n",
    "\n",
    "    // Check a known pixel from the blue background\n",
    "    const imageData = ctx.getImageData(5, 5, 1, 1).data;\n",
    "    // Expected value for a pure blue background: [0,127,255,255]\n",
    "    const expected = [0, 127, 255, 255];\n",
    "    for (let i = 0; i < 4; i++) {\n",
    "      if (imageData[i] !== expected[i]) {\n",
    "        spoofingDetected = true;\n",
    "        break;\n",
    "      }\n",
    "    }\n",
    "\n",
    "    // Set the document title so Selenium can read it\n",
    "    document.title = spoofingDetected ? \"Spoofing Detected\" : \"No Spoofing\";\n",
    "    console.log(spoofingDetected ? \"Canvas spoofing is ACTIVE.\" : \"No canvas spoofing detected.\");\n",
    "  </script>\n",
    "</body>\n",
    "</html>"
   ]
  },
  {
   "cell_type": "code",
   "execution_count": 2,
   "id": "7c6ff3eb-a9df-4af8-a02c-e7eddc1020d2",
   "metadata": {},
   "outputs": [
    {
     "name": "stdout",
     "output_type": "stream",
     "text": [
      "Serving HTTP on port 8000\n"
     ]
    },
    {
     "name": "stderr",
     "output_type": "stream",
     "text": [
      "127.0.0.1 - - [05/Apr/2025 23:32:49] \"GET /index.html HTTP/1.1\" 200 -\n",
      "127.0.0.1 - - [05/Apr/2025 23:32:49] code 404, message File not found\n",
      "127.0.0.1 - - [05/Apr/2025 23:32:49] \"GET /favicon.ico HTTP/1.1\" 404 -\n"
     ]
    }
   ],
   "source": [
    "import http.server\n",
    "import socketserver\n",
    "import threading\n",
    "\n",
    "PORT = 8000\n",
    "\n",
    "Handler = http.server.SimpleHTTPRequestHandler\n",
    "\n",
    "def start_server():\n",
    "    with socketserver.TCPServer((\"\", PORT), Handler) as httpd:\n",
    "        print(\"Serving HTTP on port\", PORT)\n",
    "        httpd.serve_forever()\n",
    "\n",
    "server_thread = threading.Thread(target=start_server, daemon=True)\n",
    "server_thread.start()\n"
   ]
  },
  {
   "cell_type": "code",
   "execution_count": 3,
   "id": "7b0c8236-7cca-45bf-8192-925c709d8839",
   "metadata": {},
   "outputs": [
    {
     "name": "stdout",
     "output_type": "stream",
     "text": [
      "Canvas fingerprinting protection active: True\n"
     ]
    }
   ],
   "source": [
    "#!/usr/bin/env python3\n",
    "from selenium import webdriver\n",
    "from selenium.webdriver.chrome.options import Options\n",
    "from selenium.webdriver.chrome.service import Service\n",
    "import time\n",
    "\n",
    "# Set Chrome options\n",
    "options = Options()\n",
    "# To deactivate the extension, we can comment and uncomment this line below:\n",
    "options.add_extension(\"/home/Semester_2/Privacy/Privacy Final Project/PluginSourceCode.crx\") \n",
    "\n",
    "# Set path to ChromeDriver using Service\n",
    "service = Service(\"/usr/bin/chromedriver\")\n",
    "driver = webdriver.Chrome(service=service, options=options)\n",
    "\n",
    "# Open the local HTML test file\n",
    "#driver.get(\"file:///home/Semester_2/Privacy/Privacy Final Project/index.html\")\n",
    "driver.get(\"http://localhost:8000/index.html\")\n",
    "\n",
    "# Wait for JavaScript to execute and for you to inspect the page\n",
    "time.sleep(10)  # Increased delay to 10 seconds\n",
    "\n",
    "# Get test result from the page title set by our JS\n",
    "result_text = driver.title\n",
    "spoofing_detected = \"Detected\" in result_text\n",
    "print(\"Canvas fingerprinting protection active:\", spoofing_detected)\n",
    "\n",
    "# Close the browser\n",
    "driver.quit()\n"
   ]
  },
  {
   "cell_type": "markdown",
   "id": "8401cb5f-4754-4b93-9c62-a10674f74eb6",
   "metadata": {},
   "source": [
    "## Make it Neutral + ByPass"
   ]
  },
  {
   "cell_type": "code",
   "execution_count": 4,
   "id": "b68d9aad-fcd0-43af-8bbf-f010e353d5c8",
   "metadata": {},
   "outputs": [
    {
     "name": "stdout",
     "output_type": "stream",
     "text": [
      "Overwriting index2.html\n"
     ]
    }
   ],
   "source": [
    "%%writefile index2.html\n",
    "<!DOCTYPE html>\n",
    "<html>\n",
    "<head>\n",
    "  <meta charset=\"UTF-8\">\n",
    "  <title>Canvas Fingerprint Test with Bypass</title>\n",
    "<script>\n",
    "    setTimeout(() => {\n",
    "      // 1) Create iframe\n",
    "      var iframe = document.createElement('iframe');\n",
    "      iframe.style.display = 'none';\n",
    "      document.documentElement.appendChild(iframe);\n",
    "  \n",
    "      // 2) Grab native methods\n",
    "      var nativeToDataURL = iframe.contentWindow.HTMLCanvasElement.prototype.toDataURL;\n",
    "      var nativeGetImageData = iframe.contentWindow.CanvasRenderingContext2D.prototype.getImageData;\n",
    "  \n",
    "      // 3) Remove iframe\n",
    "      document.documentElement.removeChild(iframe);\n",
    "  \n",
    "      // 4) Override\n",
    "      HTMLCanvasElement.prototype.toDataURL = nativeToDataURL;\n",
    "      CanvasRenderingContext2D.prototype.getImageData = nativeGetImageData;\n",
    "  \n",
    "      console.log(\"Re-applied native canvas methods after extension hooking.\");\n",
    "  \n",
    "      // Now do your canvas drawing + fingerprint\n",
    "      var canvas = document.getElementById('testCanvas');\n",
    "      var ctx = canvas.getContext('2d');\n",
    "      ctx.fillStyle = \"#007FFF\";\n",
    "      ctx.fillRect(0, 0, 300, 100);\n",
    "      ctx.font = \"16px Arial\";\n",
    "      ctx.fillStyle = \"#000\";\n",
    "      ctx.fillText(\"Fingerprint Test\", 10, 50);\n",
    "  \n",
    "      var fingerprint = canvas.toDataURL();\n",
    "      console.log(\"Fingerprint:\", fingerprint);\n",
    "      document.title = \"Fingerprint: \" + fingerprint.substring(0, 50);\n",
    "  \n",
    "    }, 5000); // Delay 2 seconds\n",
    "  </script>  \n",
    "</head>\n",
    "<body>\n",
    "  <canvas id=\"testCanvas\" width=\"300\" height=\"100\"></canvas>\n",
    "  <script>\n",
    "    // === Fingerprinting Code (Executes AFTER Bypass) ===\n",
    "    var canvas = document.getElementById('testCanvas');\n",
    "    var ctx = canvas.getContext('2d');\n",
    "\n",
    "    // Draw a blue rectangle (should be pure blue if no noise is applied)\n",
    "    ctx.fillStyle = \"#007FFF\";  // Interpreted as rgb(0,127,255)\n",
    "    ctx.fillRect(0, 0, canvas.width, canvas.height);\n",
    "\n",
    "    // Draw fingerprinting text\n",
    "    ctx.font = \"16px Arial\";\n",
    "    ctx.fillStyle = \"#000000\";\n",
    "    ctx.fillText(\"Fingerprint Test\", 10, 50);\n",
    "\n",
    "    // Generate the fingerprint using the (hopefully restored) native toDataURL method\n",
    "    var fingerprint = canvas.toDataURL();\n",
    "    console.log(\"Fingerprint:\", fingerprint);\n",
    "    \n",
    "    // Update the document title with part of the fingerprint for verification\n",
    "    document.title = \"Fingerprint: \" + fingerprint.substring(0, 50);\n",
    "  </script>\n",
    "</body>\n",
    "</html>"
   ]
  },
  {
   "cell_type": "code",
   "execution_count": 5,
   "id": "9537935d-189c-4a42-a274-e6c25c088c9a",
   "metadata": {},
   "outputs": [
    {
     "name": "stdout",
     "output_type": "stream",
     "text": [
      "Serving HTTP on port 8050\n"
     ]
    },
    {
     "name": "stderr",
     "output_type": "stream",
     "text": [
      "127.0.0.1 - - [05/Apr/2025 23:33:42] \"GET /index2.html HTTP/1.1\" 200 -\n",
      "127.0.0.1 - - [05/Apr/2025 23:33:42] code 404, message File not found\n",
      "127.0.0.1 - - [05/Apr/2025 23:33:42] \"GET /favicon.ico HTTP/1.1\" 404 -\n"
     ]
    }
   ],
   "source": [
    "import http.server\n",
    "import socketserver\n",
    "import threading\n",
    "\n",
    "PORT = 8050\n",
    "\n",
    "Handler = http.server.SimpleHTTPRequestHandler\n",
    "\n",
    "def start_server():\n",
    "    with socketserver.TCPServer((\"\", PORT), Handler) as httpd:\n",
    "        print(\"Serving HTTP on port\", PORT)\n",
    "        httpd.serve_forever()\n",
    "\n",
    "server_thread = threading.Thread(target=start_server, daemon=True)\n",
    "server_thread.start()\n"
   ]
  },
  {
   "cell_type": "code",
   "execution_count": 6,
   "id": "b374eb9c-6109-4764-9ed4-5daa528bb194",
   "metadata": {},
   "outputs": [
    {
     "name": "stdout",
     "output_type": "stream",
     "text": [
      "Page title: Fingerprint: data:image/png;base64,iVBORw0KGgoAAAANSUhEUgAAASwA\n",
      "Bypass successful: Native canvas fingerprint recovered.\n"
     ]
    }
   ],
   "source": [
    "from selenium import webdriver\n",
    "from selenium.webdriver.chrome.options import Options\n",
    "from selenium.webdriver.chrome.service import Service\n",
    "import time\n",
    "import os\n",
    "\n",
    "# Configure Chrome Options\n",
    "options = Options()\n",
    "# To deactivate the extension, we can comment and uncomment this line below:\n",
    "extension_path = \"/home/Semester_2/Privacy/Privacy Final Project/PluginSourceCode.crx\"\n",
    "if not os.path.exists(extension_path):\n",
    "    raise FileNotFoundError(f\"Extension not found at {extension_path}\")\n",
    "options.add_extension(extension_path)\n",
    "\n",
    "# Set Up ChromeDriver Service\n",
    "chromedriver_path = \"/usr/bin/chromedriver\"\n",
    "if not os.path.exists(chromedriver_path):\n",
    "    raise FileNotFoundError(f\"ChromeDriver not found at {chromedriver_path}\")\n",
    "service = Service(chromedriver_path)\n",
    "driver = webdriver.Chrome(service=service, options=options)\n",
    "\n",
    "# Load the Test Page from our HTTP Server\n",
    "driver.get(\"http://localhost:8050/index2.html\")\n",
    "time.sleep(10)  # Wait for page to load and JS to execute\n",
    "\n",
    "# Capture and print the result\n",
    "page_title = driver.title\n",
    "print(\"Page title:\", page_title)\n",
    "\n",
    "if page_title.startswith(\"Fingerprint:\"):\n",
    "    print(\"Bypass successful: Native canvas fingerprint recovered.\")\n",
    "else:\n",
    "    print(\"Bypass failed or not detected.\")\n",
    "driver.quit()\n"
   ]
  },
  {
   "cell_type": "code",
   "execution_count": null,
   "id": "3a1b0331-7374-4d7e-b6bf-871325e075c1",
   "metadata": {},
   "outputs": [],
   "source": []
  }
 ],
 "metadata": {
  "kernelspec": {
   "display_name": "Python 3 (ipykernel)",
   "language": "python",
   "name": "python3"
  },
  "language_info": {
   "codemirror_mode": {
    "name": "ipython",
    "version": 3
   },
   "file_extension": ".py",
   "mimetype": "text/x-python",
   "name": "python",
   "nbconvert_exporter": "python",
   "pygments_lexer": "ipython3",
   "version": "3.13.2"
  }
 },
 "nbformat": 4,
 "nbformat_minor": 5
}
